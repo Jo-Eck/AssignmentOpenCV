{
 "cells": [
  {
   "cell_type": "markdown",
   "metadata": {},
   "source": [
    "# Scanning documents using OpenCV\n",
    "\n",
    "In this notebook, we will learn how to scan documents using OpenCV. We will use the following steps:\n",
    "<br /> <br /> <br /> \n",
    "\n",
    "## 1. Setup:\n",
    "---\n",
    "First off we have to install the required packages and import them. We will use the following packages: <br>\n",
    "  * Opencv to perform out image processing tasks\n",
    "  * Pillow and IPython show our images\n",
    "\n",
    "Then we test if they are installed correctly by printing the version of the packages.\n"
   ]
  },
  {
   "cell_type": "code",
   "execution_count": null,
   "metadata": {},
   "outputs": [],
   "source": [
    "%pip install opencv-python\n",
    "%pip install IPython\n",
    "%pip install pillow\n",
    "\n",
    "import cv2\n",
    "from PIL import Image\n",
    "from IPython.display import display\n",
    "\n",
    "print(f\"OpenCV version:  {cv2.__version__}\")\n",
    "print(f\"Pillow version:  {Image.__version__}\")\n"
   ]
  },
  {
   "cell_type": "markdown",
   "metadata": {},
   "source": [
    "## 2. Load the image:\n",
    "---\n",
    "1. We load the `test.jpg` image using the `cv2.imread()` function.\n",
    "2. We convert the image to grayscale using the `cv2.cvtColor()` function.\n",
    "3. We resize the image to a width of 600x800 using the `cv2.resize()` function.\n",
    "4. We display the image using the `display()` function."
   ]
  },
  {
   "cell_type": "code",
   "execution_count": null,
   "metadata": {},
   "outputs": [],
   "source": [
    "img = cv2.imread('./test.jpg')\n",
    "img = cv2.cvtColor(img, cv2.COLOR_BGR2GRAY)\n",
    "img = cv2.resize(img, (600, 800))\n",
    "display(Image.fromarray(img))"
   ]
  }
 ],
 "metadata": {
  "kernelspec": {
   "display_name": "Python 3.10.6 64-bit",
   "language": "python",
   "name": "python3"
  },
  "language_info": {
   "codemirror_mode": {
    "name": "ipython",
    "version": 3
   },
   "file_extension": ".py",
   "mimetype": "text/x-python",
   "name": "python",
   "nbconvert_exporter": "python",
   "pygments_lexer": "ipython3",
   "version": "3.10.6"
  },
  "orig_nbformat": 4,
  "vscode": {
   "interpreter": {
    "hash": "916dbcbb3f70747c44a77c7bcd40155683ae19c65e1c03b4aa3499c5328201f1"
   }
  }
 },
 "nbformat": 4,
 "nbformat_minor": 2
}
